{
  "nbformat": 4,
  "nbformat_minor": 0,
  "metadata": {
    "colab": {
      "provenance": []
    },
    "kernelspec": {
      "name": "python3",
      "display_name": "Python 3"
    },
    "language_info": {
      "name": "python"
    }
  },
  "cells": [
    {
      "cell_type": "markdown",
      "source": [
        " QUESTION 1:\n",
        "\n",
        "The following is a list of 10 students ages: ages = [19, 22, 19, 24, 20, 25, 26, 24, 25, 24] • Sort the list and find the min and max age • Add the min age and the max age again to the list • Find the median age (one middle item or two middle items divided by two) • Find the average age (sum of all items divided by their number) • Find the range of the ages (max minus min)"
      ],
      "metadata": {
        "id": "X_JG_8P5n_3p"
      }
    },
    {
      "cell_type": "code",
      "execution_count": null,
      "metadata": {
        "colab": {
          "base_uri": "https://localhost:8080/"
        },
        "id": "wkmSUffZloYQ",
        "outputId": "e9a04e81-5265-45c5-e16b-33b12626d053"
      },
      "outputs": [
        {
          "output_type": "stream",
          "name": "stdout",
          "text": [
            "Sorted list: [19, 19, 19, 20, 22, 24, 24, 24, 25, 25, 26, 26]\n",
            "Min age: 19\n",
            "Max age: 26\n",
            "Median age: 24.0\n",
            "Average age: 22.75\n",
            "Range of ages: 7\n"
          ]
        }
      ],
      "source": [
        "# List of ages\n",
        "ages = [19, 22, 19, 24, 20, 25, 26, 24, 25, 24]\n",
        "\n",
        "# Sort the list\n",
        "ages.sort()\n",
        "\n",
        "# Find the min and max age\n",
        "min_age = min(ages)\n",
        "max_age = max(ages)\n",
        "\n",
        "# Add the min and max age again to the list\n",
        "ages.append(min_age)\n",
        "ages.append(max_age)\n",
        "\n",
        "# Sort the updated list\n",
        "ages.sort()\n",
        "\n",
        "# Find the median age\n",
        "n = len(ages)\n",
        "if n % 2 == 0:\n",
        "    median_age = (ages[n//2 - 1] + ages[n//2]) / 2\n",
        "else:\n",
        "    median_age = ages[n//2]\n",
        "\n",
        "# Find the average age\n",
        "average_age = sum(ages) / n\n",
        "\n",
        "# Find the range of the ages\n",
        "age_range = max_age - min_age\n",
        "\n",
        "# Print the results\n",
        "print(\"Sorted list:\", ages)\n",
        "print(\"Min age:\", min_age)\n",
        "print(\"Max age:\", max_age)\n",
        "print(\"Median age:\", median_age)\n",
        "print(\"Average age:\", average_age)\n",
        "print(\"Range of ages:\", age_range)"
      ]
    },
    {
      "cell_type": "markdown",
      "source": [
        "QUESTION 2:\n",
        "• Create an empty dictionary called dog\n",
        "• Add name, color, breed, legs, age to the dog dictionary\n",
        "• Create a student dictionary and add first_name, last_name, gender, age, marital status,\n",
        "skills, country, city and address as keys for the dictionary\n",
        "• Get the length of the student dictionary\n",
        "• Get the value of skills and check the data type, it should be a list\n",
        "• Modify the skills values by adding one or two skills\n",
        "• Get the dictionary keys as a list\n",
        "• Get the dictionary values as a list\n",
        "\n"
      ],
      "metadata": {
        "id": "Ljhtrr1GnOHO"
      }
    },
    {
      "cell_type": "code",
      "source": [
        "# Create an empty dictionary called dog\n",
        "dog = {}\n",
        "\n",
        "# Add name, color, breed, legs, age to the dog dictionary\n",
        "dog['name'] = 'Buddy'\n",
        "dog['color'] = 'Brown'\n",
        "dog['breed'] = 'Labrador'\n",
        "dog['legs'] = 4\n",
        "dog['age'] = 5\n",
        "\n",
        "# Create a student dictionary and add the required keys\n",
        "student = {\n",
        "    'first_name': 'John',\n",
        "    'last_name': 'Doe',\n",
        "    'gender': 'Male',\n",
        "    'age': 22,\n",
        "    'marital_status': 'Single',\n",
        "    'skills': ['Python', 'Data Analysis'],\n",
        "    'country': 'USA',\n",
        "    'city': 'New York',\n",
        "    'address': '123 Main St'\n",
        "}\n",
        "\n",
        "# Get the length of the student dictionary\n",
        "student_length = len(student)\n",
        "\n",
        "# Get the value of skills and check the data type\n",
        "skills = student['skills']\n",
        "skills_type = type(skills)\n",
        "\n",
        "# Modify the skills values by adding one or two skills\n",
        "student['skills'].extend(['Machine Learning', 'Deep Learning'])\n",
        "\n",
        "# Get the dictionary keys as a list\n",
        "student_keys = list(student.keys())\n",
        "\n",
        "# Get the dictionary values as a list\n",
        "student_values = list(student.values())\n",
        "\n",
        "# Print the results\n",
        "print(\"Dog dictionary:\", dog)\n",
        "print(\"Student dictionary:\", student)\n",
        "print(\"Length of student dictionary:\", student_length)\n",
        "print(\"Skills value:\", skills)\n",
        "print(\"Skills data type:\", skills_type)\n",
        "print(\"Modified skills:\", student['skills'])\n",
        "print(\"Student dictionary keys:\", student_keys)\n",
        "print(\"Student dictionary values:\", student_values)"
      ],
      "metadata": {
        "colab": {
          "base_uri": "https://localhost:8080/"
        },
        "id": "OcFvKqXXnUMz",
        "outputId": "a5e51ca6-5e0f-41e4-f8d5-c3d6bc5ec1dd"
      },
      "execution_count": null,
      "outputs": [
        {
          "output_type": "stream",
          "name": "stdout",
          "text": [
            "Dog dictionary: {'name': 'Buddy', 'color': 'Brown', 'breed': 'Labrador', 'legs': 4, 'age': 5}\n",
            "Student dictionary: {'first_name': 'John', 'last_name': 'Doe', 'gender': 'Male', 'age': 22, 'marital_status': 'Single', 'skills': ['Python', 'Data Analysis', 'Machine Learning', 'Deep Learning'], 'country': 'USA', 'city': 'New York', 'address': '123 Main St'}\n",
            "Length of student dictionary: 9\n",
            "Skills value: ['Python', 'Data Analysis', 'Machine Learning', 'Deep Learning']\n",
            "Skills data type: <class 'list'>\n",
            "Modified skills: ['Python', 'Data Analysis', 'Machine Learning', 'Deep Learning']\n",
            "Student dictionary keys: ['first_name', 'last_name', 'gender', 'age', 'marital_status', 'skills', 'country', 'city', 'address']\n",
            "Student dictionary values: ['John', 'Doe', 'Male', 22, 'Single', ['Python', 'Data Analysis', 'Machine Learning', 'Deep Learning'], 'USA', 'New York', '123 Main St']\n"
          ]
        }
      ]
    },
    {
      "cell_type": "markdown",
      "source": [
        "QUESTION 3:\n",
        "\n",
        "Create a tuple containing names of your sisters and your brothers (imaginary siblings are\n",
        "fine)\n",
        "• Join brothers and sisters tuples and assign it to siblings\n",
        "• How many siblings do you have?\n",
        "• Modify the siblings tuple and add the name of your father and mother and assign it to\n",
        "family_members\n",
        "\n"
      ],
      "metadata": {
        "id": "nGF2YAprdJ2S"
      }
    },
    {
      "cell_type": "code",
      "source": [
        "# Create a tuple containing names of your sisters and your brothers\n",
        "sisters = ('Alice', 'Emma')\n",
        "brothers = ('Jack', 'Henry')\n",
        "\n",
        "# Join brothers and sisters tuples\n",
        "siblings = brothers + sisters\n",
        "\n",
        "# How many siblings do you have?\n",
        "num_siblings = len(siblings)\n",
        "\n",
        "# Modify the siblings tuple and add the name of your father and mother\n",
        "family_members = ('Father', 'Mother') + siblings\n",
        "\n",
        "# Print the results\n",
        "print(\"Siblings tuple:\", siblings)\n",
        "print(\"Number of siblings:\", num_siblings)\n",
        "print(\"Family members tuple:\", family_members)"
      ],
      "metadata": {
        "colab": {
          "base_uri": "https://localhost:8080/"
        },
        "id": "4CIakX6Fnk16",
        "outputId": "4ede48e8-09fe-40b3-d8d5-e3d07934be50"
      },
      "execution_count": null,
      "outputs": [
        {
          "output_type": "stream",
          "name": "stdout",
          "text": [
            "Siblings tuple: ('Jack', 'Henry', 'Alice', 'Emma')\n",
            "Number of siblings: 4\n",
            "Family members tuple: ('Father', 'Mother', 'Jack', 'Henry', 'Alice', 'Emma')\n"
          ]
        }
      ]
    },
    {
      "cell_type": "markdown",
      "source": [
        "QUESTION 4:\n",
        "\n",
        "it_companies = {'Facebook', 'Google', 'Microsoft', 'Apple', 'IBM', 'Oracle', 'Amazon'}\n",
        "A = {19, 22, 24, 20, 25, 26}\n",
        "B = {19, 22, 20, 25, 26, 24, 28, 27}\n",
        "age = [22, 19, 24, 25, 26, 24, 25, 24]\n",
        "• Find the length of the set it_companies\n",
        "• Add 'Twitter' to it_companies\n",
        "• Insert multiple IT companies at once to the set it_companies\n",
        "• Remove one of the companies from the set it_companies\n",
        "• What is the difference between remove and discard\n",
        "• Join A and B\n",
        "• Find A intersection B\n",
        "• Is A subset of B\n",
        "• Are A and B disjoint sets\n",
        "• Join A with B and B with A\n",
        "• What is the symmetric difference between A and B\n",
        "• Delete the sets completely\n",
        "• Convert the ages to a set and compare the length of the list and the set.\n",
        "\n"
      ],
      "metadata": {
        "id": "DRuFi_kAdiIE"
      }
    },
    {
      "cell_type": "code",
      "source": [
        "it_companies = {'Facebook', 'Google', 'Microsoft', 'Apple', 'IBM', 'Oracle', 'Amazon'}\n",
        "A = {19, 22, 24, 20, 25, 26}\n",
        "B = {19, 22, 20, 25, 26, 24, 28, 27}\n",
        "age = [22, 19, 24, 25, 26, 24, 25, 24]\n",
        "\n",
        "# 1. Find the length of the set it_companies\n",
        "length_it_companies = len(it_companies)\n",
        "\n",
        "# 2. Add 'Twitter' to it_companies\n",
        "it_companies.add('Twitter')\n",
        "\n",
        "# 3. Insert multiple IT companies at once to the set it_companies\n",
        "it_companies.update(['Intel', 'Cisco', 'HP'])\n",
        "\n",
        "# 4. Remove one of the companies from the set it_companies\n",
        "it_companies.remove('IBM')\n",
        "\n",
        "# 5. What is the difference between remove and discard\n",
        "# - 'remove' raises KeyError if the element is not present\n",
        "# - 'discard' does nothing if the element is not present\n",
        "# Both remove the specified element if it exists in the set\n",
        "\n",
        "# 6. Join A and B\n",
        "joined_set = A.union(B)\n",
        "\n",
        "# 7. Find A intersection B\n",
        "intersection_set = A.intersection(B)\n",
        "\n",
        "# 8. Is A subset of B\n",
        "is_subset = A.issubset(B)\n",
        "\n",
        "# 9. Are A and B disjoint sets\n",
        "are_disjoint = A.isdisjoint(B)\n",
        "\n",
        "# 10. Join A with B and B with A\n",
        "joined_A_B = A.union(B)\n",
        "joined_B_A = B.union(A)\n",
        "\n",
        "# 11. What is the symmetric difference between A and B\n",
        "symmetric_difference = A.symmetric_difference(B)\n",
        "\n",
        "# 12. Convert the ages to a set and compare the length of the list and the set\n",
        "age_set = set(age)\n",
        "length_list = len(age)\n",
        "length_set = len(age_set)\n",
        "\n",
        "print(\"Length of it_companies:\", length_it_companies)\n",
        "print(\"it_companies after adding Twitter and multiple IT companies:\", it_companies)\n",
        "print(\"Joined set of A and B:\", joined_set)\n",
        "print(\"Intersection of A and B:\", intersection_set)\n",
        "print(\"Is A a subset of B:\", is_subset)\n",
        "print(\"Are A and B disjoint sets:\", are_disjoint)\n",
        "print(\"Joined A with B:\", joined_A_B)\n",
        "print(\"Joined B with A:\", joined_B_A)\n",
        "print(\"Symmetric difference between A and B:\", symmetric_difference)\n",
        "print(\"Length of age list:\", length_list)\n",
        "print(\"Length of age set:\", length_set)\n"
      ],
      "metadata": {
        "colab": {
          "base_uri": "https://localhost:8080/"
        },
        "id": "fjjF4hZSdviL",
        "outputId": "074144de-ff85-4f6d-f40f-c0307259cb4c"
      },
      "execution_count": null,
      "outputs": [
        {
          "output_type": "stream",
          "name": "stdout",
          "text": [
            "Length of it_companies: 7\n",
            "it_companies after adding Twitter and multiple IT companies: {'Cisco', 'Oracle', 'Facebook', 'HP', 'Intel', 'Microsoft', 'Google', 'Apple', 'Twitter', 'Amazon'}\n",
            "Joined set of A and B: {19, 20, 22, 24, 25, 26, 27, 28}\n",
            "Intersection of A and B: {19, 20, 22, 24, 25, 26}\n",
            "Is A a subset of B: True\n",
            "Are A and B disjoint sets: False\n",
            "Joined A with B: {19, 20, 22, 24, 25, 26, 27, 28}\n",
            "Joined B with A: {19, 20, 22, 24, 25, 26, 27, 28}\n",
            "Symmetric difference between A and B: {27, 28}\n",
            "Length of age list: 8\n",
            "Length of age set: 5\n"
          ]
        }
      ]
    },
    {
      "cell_type": "markdown",
      "source": [
        "QUESTION 5:\n",
        "\n",
        "The radius of a circle is 30 meters.\n",
        "• Calculate the area of a circle and assign the value to a variable name of _area_of_circle_\n",
        "• Calculate the circumference of a circle and assign the value to a variable name of\n",
        "_circum_of_circle_\n",
        "• Take radius as user input and calculate the area\n"
      ],
      "metadata": {
        "id": "V6wHaKMogfV7"
      }
    },
    {
      "cell_type": "code",
      "source": [
        "import math\n",
        "\n",
        "# Given radius\n",
        "radius = 30\n",
        "\n",
        "# Calculate the area of the circle\n",
        "area_of_circle = math.pi * radius**2\n",
        "\n",
        "# Calculate the circumference of the circle\n",
        "circum_of_circle = 2 * math.pi * radius\n",
        "\n",
        "print(\"Area of the circle:\", area_of_circle)\n",
        "print(\"Circumference of the circle:\", circum_of_circle)\n",
        "\n",
        "# Take radius as user input\n",
        "user_radius = float(input(\"Enter the radius of the circle: \"))\n",
        "user_area_of_circle = math.pi * user_radius**2\n",
        "\n",
        "print(\"Area of the circle with user input radius:\", user_area_of_circle)\n"
      ],
      "metadata": {
        "colab": {
          "base_uri": "https://localhost:8080/"
        },
        "id": "VMtvdoiagnwq",
        "outputId": "c5aa2394-171b-44aa-8573-d645e439f872"
      },
      "execution_count": null,
      "outputs": [
        {
          "output_type": "stream",
          "name": "stdout",
          "text": [
            "Area of the circle: 2827.4333882308138\n",
            "Circumference of the circle: 188.49555921538757\n",
            "Enter the radius of the circle: 5\n",
            "Area of the circle with user input radius: 78.53981633974483\n"
          ]
        }
      ]
    },
    {
      "cell_type": "markdown",
      "source": [
        "QUESTION 6:\n",
        "\n",
        "“I am a teacher and I love to inspire and teach people”\n",
        "• How many unique words have been used in the sentence? Use the split methods and set\n",
        "to get the unique words.\n",
        "\n"
      ],
      "metadata": {
        "id": "f8KaqXw1hK0T"
      }
    },
    {
      "cell_type": "code",
      "source": [
        "sentence = \"I am a teacher and I love to inspire and teach people\"\n",
        "\n",
        "# Split the sentence into words\n",
        "words = sentence.split()\n",
        "\n",
        "# Get unique words using set\n",
        "unique_words = set(words)\n",
        "\n",
        "# Count the number of unique words\n",
        "num_unique_words = len(unique_words)\n",
        "\n",
        "print(\"Number of unique words:\", num_unique_words)\n"
      ],
      "metadata": {
        "colab": {
          "base_uri": "https://localhost:8080/"
        },
        "id": "6Cyar8vjhS5A",
        "outputId": "e0554fb1-47d6-4fe1-e03c-082cc7a87d25"
      },
      "execution_count": null,
      "outputs": [
        {
          "output_type": "stream",
          "name": "stdout",
          "text": [
            "Number of unique words: 10\n"
          ]
        }
      ]
    },
    {
      "cell_type": "markdown",
      "source": [
        "QUESTION 7:\n",
        "\n",
        "Use a tab escape sequence to get the following lines.\n",
        "Name Age Country City\n",
        "Asabeneh 250 Finland Helsinki\n",
        "\n"
      ],
      "metadata": {
        "id": "1EeUfZ97huY-"
      }
    },
    {
      "cell_type": "code",
      "source": [
        "print(\"Name\\tAge\\tCountry\\tCity\")\n",
        "print(\"Asabeneh\\t250\\tFinland\\tHelsinki\")\n"
      ],
      "metadata": {
        "colab": {
          "base_uri": "https://localhost:8080/"
        },
        "id": "bjcf3t7Mh3vV",
        "outputId": "ef86d207-6d75-4e77-9056-2aa47ffd2094"
      },
      "execution_count": null,
      "outputs": [
        {
          "output_type": "stream",
          "name": "stdout",
          "text": [
            "Name\tAge\tCountry\tCity\n",
            "Asabeneh\t250\tFinland\tHelsinki\n"
          ]
        }
      ]
    },
    {
      "cell_type": "markdown",
      "source": [
        "QUESTION 8:\n",
        "\n",
        "Use the string formatting method to display the following:\n",
        "radius = 10\n",
        "area = 3.14 * radius ** 2\n",
        "“The area of a circle with radius 10 is 314 meters square.”\n",
        "\n"
      ],
      "metadata": {
        "id": "fyXBZfNwijkB"
      }
    },
    {
      "cell_type": "code",
      "source": [
        "radius = 10\n",
        "area = 3.14 * radius ** 2\n",
        "\n",
        "output = \"The area of a circle with radius {} is {} meters square.\".format(radius, area)\n",
        "\n",
        "print(output)\n"
      ],
      "metadata": {
        "colab": {
          "base_uri": "https://localhost:8080/"
        },
        "id": "IlU4Cc8wissM",
        "outputId": "49dddb4e-2e1a-48cf-8fd1-e7f01c42c71c"
      },
      "execution_count": null,
      "outputs": [
        {
          "output_type": "stream",
          "name": "stdout",
          "text": [
            "The area of a circle with radius 10 is 314.0 meters square.\n"
          ]
        }
      ]
    },
    {
      "cell_type": "markdown",
      "source": [
        "QUESTION 9:\n",
        "\n",
        "Write a program, which reads weights (lbs.) of N students into a list and convert these weights to\n",
        "kilograms in a separate list using Loop. N: No of students (Read input from user)\n",
        "Ex: L1: [150, 155, 145, 148]\n",
        "Output: [68.03, 70.3, 65.77, 67.13]\n"
      ],
      "metadata": {
        "id": "JSlikrk8jFNE"
      }
    },
    {
      "cell_type": "code",
      "source": [
        "# Read the number of students from the user\n",
        "N = int(input(\"Enter the number of students: \"))\n",
        "\n",
        "# Initialize an empty list to store weights in lbs.\n",
        "weights_lbs = []\n",
        "\n",
        "# Read weights of students in lbs.\n",
        "print(\"Enter the weights of students in lbs:\")\n",
        "for i in range(N):\n",
        "    weight = float(input(f\"Student {i+1}: \"))\n",
        "    weights_lbs.append(weight)\n",
        "\n",
        "# Convert weights from lbs to kg and store in a separate list\n",
        "weights_kg = []\n",
        "for weight in weights_lbs:\n",
        "    weight_kg = weight * 0.453592  # Conversion factor: 1 lb = 0.453592 kg\n",
        "    weights_kg.append(round(weight_kg, 2))\n",
        "\n",
        "print(\"Weights in kilograms:\", weights_kg)\n"
      ],
      "metadata": {
        "colab": {
          "base_uri": "https://localhost:8080/"
        },
        "id": "gL0Arr-nkQDz",
        "outputId": "36a3ac29-8366-4845-e99b-4953833c2196"
      },
      "execution_count": null,
      "outputs": [
        {
          "output_type": "stream",
          "name": "stdout",
          "text": [
            "Enter the number of students: 6\n",
            "Enter the weights of students in lbs:\n",
            "Student 1: 10\n",
            "Student 2: 50\n",
            "Student 3: 60\n",
            "Student 4: 25\n",
            "Student 5: 75\n",
            "Student 6: 34\n",
            "Weights in kilograms: [4.54, 22.68, 27.22, 11.34, 34.02, 15.42]\n"
          ]
        }
      ]
    }
  ]
}